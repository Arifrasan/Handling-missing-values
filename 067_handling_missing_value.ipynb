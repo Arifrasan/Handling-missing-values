{
  "nbformat": 4,
  "nbformat_minor": 0,
  "metadata": {
    "colab": {
      "provenance": [],
      "collapsed_sections": [],
      "authorship_tag": "ABX9TyO2buV5DWUShyCq7XJ7CLKf",
      "include_colab_link": true
    },
    "kernelspec": {
      "name": "python3",
      "display_name": "Python 3"
    },
    "language_info": {
      "name": "python"
    }
  },
  "cells": [
    {
      "cell_type": "markdown",
      "metadata": {
        "id": "view-in-github",
        "colab_type": "text"
      },
      "source": [
        "<a href=\"https://colab.research.google.com/github/Arifrasan/Handling-missing-values/blob/main/067_handling_missing_value.ipynb\" target=\"_parent\"><img src=\"https://colab.research.google.com/assets/colab-badge.svg\" alt=\"Open In Colab\"/></a>"
      ]
    },
    {
      "cell_type": "markdown",
      "source": [
        "# Penjelasan Dataset\n",
        "Dataset tersebut merupakan dataset mengenai data SD yang ada di Jakarta pada tahun 2015. Pada dataset terdapat kolom npsn, nama_sekolah, alamat, kecamatan, jumlah_siswa, jumlah_guru, kepala_sekolah, telepon, kondisi_lingkungan dan akreditasi. Dataset ini memiliki 2924 data. Dataset ini diambil dari https://data.jakarta.go.id/dataset/data-sekolah-sd-dki-jakarta/resource/e044db50-c06d-4ec0-a126-f5132a868699"
      ],
      "metadata": {
        "id": "nrPei7tip3AP"
      }
    },
    {
      "cell_type": "code",
      "execution_count": null,
      "metadata": {
        "colab": {
          "base_uri": "https://localhost:8080/",
          "height": 337
        },
        "id": "PFxierNgjJ_Q",
        "outputId": "57bd2a25-a814-4bf1-ee8f-cdd54454c6b0"
      },
      "outputs": [
        {
          "output_type": "execute_result",
          "data": {
            "text/plain": [
              "          npsn          nama_sekolah                       alamat  \\\n",
              "0  6.9728746E7     SD Bangun Mandiri         Jl. H. Mursid No. 16   \n",
              "1          1.0        SD Bina Bangsa           Jl. Tanjung Pura V   \n",
              "2  2.0109443E7  SD Bina Tunas Bangsa      Jl. Pluit Timur Blok MM   \n",
              "3  2.0112485E7      SD Gemala Ananda  Jl. Lebak Bulus III No. 93G   \n",
              "4  2.0109914E7     SD Islam An Najah                  Jl. SMAN 64   \n",
              "\n",
              "      kecamatan  jumlah_siswa  jumlah_guru             kepala_sekolah  \\\n",
              "0  Pasar Minggu           NaN         15.0              RITA AMALIANI   \n",
              "1     Kalideres           NaN         10.0  Sopiah Watil Hayat, S.Psi   \n",
              "2   Penjaringan           NaN         33.0         S.WILLIANA K, M.Pd   \n",
              "3      Cilandak         210.0         17.0               Jasmin Jasin   \n",
              "4      Cipayung         147.0         10.0            Ramdhani rahmat   \n",
              "\n",
              "          telepon kondisi_lingkungan           akreditasi  \n",
              "0   (021) 7271788               Baik  Tidak Terakreditasi  \n",
              "1  (021) 54396155               Baik  Tidak Terakreditasi  \n",
              "2  (021) 30031300               Baik                    A  \n",
              "3  (021) 75908596               Baik                    A  \n",
              "4  (021) 84302039               Baik                    B  "
            ],
            "text/html": [
              "\n",
              "  <div id=\"df-cec1ae1d-355c-4328-95e0-ecf1a96084eb\">\n",
              "    <div class=\"colab-df-container\">\n",
              "      <div>\n",
              "<style scoped>\n",
              "    .dataframe tbody tr th:only-of-type {\n",
              "        vertical-align: middle;\n",
              "    }\n",
              "\n",
              "    .dataframe tbody tr th {\n",
              "        vertical-align: top;\n",
              "    }\n",
              "\n",
              "    .dataframe thead th {\n",
              "        text-align: right;\n",
              "    }\n",
              "</style>\n",
              "<table border=\"1\" class=\"dataframe\">\n",
              "  <thead>\n",
              "    <tr style=\"text-align: right;\">\n",
              "      <th></th>\n",
              "      <th>npsn</th>\n",
              "      <th>nama_sekolah</th>\n",
              "      <th>alamat</th>\n",
              "      <th>kecamatan</th>\n",
              "      <th>jumlah_siswa</th>\n",
              "      <th>jumlah_guru</th>\n",
              "      <th>kepala_sekolah</th>\n",
              "      <th>telepon</th>\n",
              "      <th>kondisi_lingkungan</th>\n",
              "      <th>akreditasi</th>\n",
              "    </tr>\n",
              "  </thead>\n",
              "  <tbody>\n",
              "    <tr>\n",
              "      <th>0</th>\n",
              "      <td>6.9728746E7</td>\n",
              "      <td>SD Bangun Mandiri</td>\n",
              "      <td>Jl. H. Mursid No. 16</td>\n",
              "      <td>Pasar Minggu</td>\n",
              "      <td>NaN</td>\n",
              "      <td>15.0</td>\n",
              "      <td>RITA AMALIANI</td>\n",
              "      <td>(021) 7271788</td>\n",
              "      <td>Baik</td>\n",
              "      <td>Tidak Terakreditasi</td>\n",
              "    </tr>\n",
              "    <tr>\n",
              "      <th>1</th>\n",
              "      <td>1.0</td>\n",
              "      <td>SD Bina Bangsa</td>\n",
              "      <td>Jl. Tanjung Pura V</td>\n",
              "      <td>Kalideres</td>\n",
              "      <td>NaN</td>\n",
              "      <td>10.0</td>\n",
              "      <td>Sopiah Watil Hayat, S.Psi</td>\n",
              "      <td>(021) 54396155</td>\n",
              "      <td>Baik</td>\n",
              "      <td>Tidak Terakreditasi</td>\n",
              "    </tr>\n",
              "    <tr>\n",
              "      <th>2</th>\n",
              "      <td>2.0109443E7</td>\n",
              "      <td>SD Bina Tunas Bangsa</td>\n",
              "      <td>Jl. Pluit Timur Blok MM</td>\n",
              "      <td>Penjaringan</td>\n",
              "      <td>NaN</td>\n",
              "      <td>33.0</td>\n",
              "      <td>S.WILLIANA K, M.Pd</td>\n",
              "      <td>(021) 30031300</td>\n",
              "      <td>Baik</td>\n",
              "      <td>A</td>\n",
              "    </tr>\n",
              "    <tr>\n",
              "      <th>3</th>\n",
              "      <td>2.0112485E7</td>\n",
              "      <td>SD Gemala Ananda</td>\n",
              "      <td>Jl. Lebak Bulus III No. 93G</td>\n",
              "      <td>Cilandak</td>\n",
              "      <td>210.0</td>\n",
              "      <td>17.0</td>\n",
              "      <td>Jasmin Jasin</td>\n",
              "      <td>(021) 75908596</td>\n",
              "      <td>Baik</td>\n",
              "      <td>A</td>\n",
              "    </tr>\n",
              "    <tr>\n",
              "      <th>4</th>\n",
              "      <td>2.0109914E7</td>\n",
              "      <td>SD Islam An Najah</td>\n",
              "      <td>Jl. SMAN 64</td>\n",
              "      <td>Cipayung</td>\n",
              "      <td>147.0</td>\n",
              "      <td>10.0</td>\n",
              "      <td>Ramdhani rahmat</td>\n",
              "      <td>(021) 84302039</td>\n",
              "      <td>Baik</td>\n",
              "      <td>B</td>\n",
              "    </tr>\n",
              "  </tbody>\n",
              "</table>\n",
              "</div>\n",
              "      <button class=\"colab-df-convert\" onclick=\"convertToInteractive('df-cec1ae1d-355c-4328-95e0-ecf1a96084eb')\"\n",
              "              title=\"Convert this dataframe to an interactive table.\"\n",
              "              style=\"display:none;\">\n",
              "        \n",
              "  <svg xmlns=\"http://www.w3.org/2000/svg\" height=\"24px\"viewBox=\"0 0 24 24\"\n",
              "       width=\"24px\">\n",
              "    <path d=\"M0 0h24v24H0V0z\" fill=\"none\"/>\n",
              "    <path d=\"M18.56 5.44l.94 2.06.94-2.06 2.06-.94-2.06-.94-.94-2.06-.94 2.06-2.06.94zm-11 1L8.5 8.5l.94-2.06 2.06-.94-2.06-.94L8.5 2.5l-.94 2.06-2.06.94zm10 10l.94 2.06.94-2.06 2.06-.94-2.06-.94-.94-2.06-.94 2.06-2.06.94z\"/><path d=\"M17.41 7.96l-1.37-1.37c-.4-.4-.92-.59-1.43-.59-.52 0-1.04.2-1.43.59L10.3 9.45l-7.72 7.72c-.78.78-.78 2.05 0 2.83L4 21.41c.39.39.9.59 1.41.59.51 0 1.02-.2 1.41-.59l7.78-7.78 2.81-2.81c.8-.78.8-2.07 0-2.86zM5.41 20L4 18.59l7.72-7.72 1.47 1.35L5.41 20z\"/>\n",
              "  </svg>\n",
              "      </button>\n",
              "      \n",
              "  <style>\n",
              "    .colab-df-container {\n",
              "      display:flex;\n",
              "      flex-wrap:wrap;\n",
              "      gap: 12px;\n",
              "    }\n",
              "\n",
              "    .colab-df-convert {\n",
              "      background-color: #E8F0FE;\n",
              "      border: none;\n",
              "      border-radius: 50%;\n",
              "      cursor: pointer;\n",
              "      display: none;\n",
              "      fill: #1967D2;\n",
              "      height: 32px;\n",
              "      padding: 0 0 0 0;\n",
              "      width: 32px;\n",
              "    }\n",
              "\n",
              "    .colab-df-convert:hover {\n",
              "      background-color: #E2EBFA;\n",
              "      box-shadow: 0px 1px 2px rgba(60, 64, 67, 0.3), 0px 1px 3px 1px rgba(60, 64, 67, 0.15);\n",
              "      fill: #174EA6;\n",
              "    }\n",
              "\n",
              "    [theme=dark] .colab-df-convert {\n",
              "      background-color: #3B4455;\n",
              "      fill: #D2E3FC;\n",
              "    }\n",
              "\n",
              "    [theme=dark] .colab-df-convert:hover {\n",
              "      background-color: #434B5C;\n",
              "      box-shadow: 0px 1px 3px 1px rgba(0, 0, 0, 0.15);\n",
              "      filter: drop-shadow(0px 1px 2px rgba(0, 0, 0, 0.3));\n",
              "      fill: #FFFFFF;\n",
              "    }\n",
              "  </style>\n",
              "\n",
              "      <script>\n",
              "        const buttonEl =\n",
              "          document.querySelector('#df-cec1ae1d-355c-4328-95e0-ecf1a96084eb button.colab-df-convert');\n",
              "        buttonEl.style.display =\n",
              "          google.colab.kernel.accessAllowed ? 'block' : 'none';\n",
              "\n",
              "        async function convertToInteractive(key) {\n",
              "          const element = document.querySelector('#df-cec1ae1d-355c-4328-95e0-ecf1a96084eb');\n",
              "          const dataTable =\n",
              "            await google.colab.kernel.invokeFunction('convertToInteractive',\n",
              "                                                     [key], {});\n",
              "          if (!dataTable) return;\n",
              "\n",
              "          const docLinkHtml = 'Like what you see? Visit the ' +\n",
              "            '<a target=\"_blank\" href=https://colab.research.google.com/notebooks/data_table.ipynb>data table notebook</a>'\n",
              "            + ' to learn more about interactive tables.';\n",
              "          element.innerHTML = '';\n",
              "          dataTable['output_type'] = 'display_data';\n",
              "          await google.colab.output.renderOutput(dataTable, element);\n",
              "          const docLink = document.createElement('div');\n",
              "          docLink.innerHTML = docLinkHtml;\n",
              "          element.appendChild(docLink);\n",
              "        }\n",
              "      </script>\n",
              "    </div>\n",
              "  </div>\n",
              "  "
            ]
          },
          "metadata": {},
          "execution_count": 4
        }
      ],
      "source": [
        "#menampilkan dataset dengan 5 data teratas\n",
        "import pandas as pd\n",
        "dataset = pd.read_csv ('https://data.jakarta.go.id/dataset/33629b01-6d7a-44d0-9f65-f46c142ecbf1/resource/e044db50-c06d-4ec0-a126-f5132a868699/download/Data-Sekolah-SD-Tahun-2015-DKI-Jakarta-xlsx.csv')\n",
        "dataset.head(5)"
      ]
    },
    {
      "cell_type": "code",
      "source": [
        "#menampilkan missing value yang ada pada dataset\n",
        "dataset.isna().sum()"
      ],
      "metadata": {
        "colab": {
          "base_uri": "https://localhost:8080/"
        },
        "id": "BtP8G2I6jiQD",
        "outputId": "6fa49fef-7da6-4ca2-9335-ad48c0aa6a79"
      },
      "execution_count": null,
      "outputs": [
        {
          "output_type": "execute_result",
          "data": {
            "text/plain": [
              "npsn                   0\n",
              "nama_sekolah           0\n",
              "alamat                 0\n",
              "kecamatan              0\n",
              "jumlah_siswa          70\n",
              "jumlah_guru            3\n",
              "kepala_sekolah        83\n",
              "telepon               30\n",
              "kondisi_lingkungan     2\n",
              "akreditasi             4\n",
              "dtype: int64"
            ]
          },
          "metadata": {},
          "execution_count": 66
        }
      ]
    },
    {
      "cell_type": "code",
      "source": [
        "#imputing dataset dengan mengganti missing value pada salah satu kolom dengan data median\n",
        "dataset['jumlah_siswa']= dataset['jumlah_siswa'].fillna(dataset['jumlah_siswa'].median())"
      ],
      "metadata": {
        "id": "rpnVHirojrF5"
      },
      "execution_count": null,
      "outputs": []
    },
    {
      "cell_type": "code",
      "source": [
        "#imputing dataset dengan mengganti missing value pada salah satu kolom dengan data mean\n",
        "dataset['jumlah_guru']= dataset['jumlah_guru'].fillna(dataset['jumlah_guru'].mean())"
      ],
      "metadata": {
        "id": "Tgz36oXvkQH5"
      },
      "execution_count": null,
      "outputs": []
    },
    {
      "cell_type": "code",
      "source": [
        "#imputing dataset dengan mengganti missing pada salah satu kolom value dengan data modus\n",
        "modus = dataset['kepala_sekolah'].mode()[0]\n",
        "dataset['kepala_sekolah'] = dataset['kepala_sekolah'].fillna(modus)\n",
        "dataset['kepala_sekolah'].isna().sum()"
      ],
      "metadata": {
        "colab": {
          "base_uri": "https://localhost:8080/"
        },
        "id": "7mhvV5Y3k0b7",
        "outputId": "92c74842-011c-474d-a4f2-b528059df09f"
      },
      "execution_count": null,
      "outputs": [
        {
          "output_type": "execute_result",
          "data": {
            "text/plain": [
              "0"
            ]
          },
          "metadata": {},
          "execution_count": 51
        }
      ]
    },
    {
      "cell_type": "code",
      "source": [
        "#menghapus semua missing value dari dataset\n",
        "dataset.dropna(inplace=True)\n",
        "dataset.dropna(inplace=True, axis=1)"
      ],
      "metadata": {
        "id": "jezS3tN9rAWn"
      },
      "execution_count": null,
      "outputs": []
    },
    {
      "cell_type": "code",
      "source": [
        "#menampilkan missing value yang terbebas dari missing value\n",
        "dataset.isna().sum()"
      ],
      "metadata": {
        "colab": {
          "base_uri": "https://localhost:8080/"
        },
        "id": "S4GyRWvlkafK",
        "outputId": "d6343879-5aa7-437c-8917-6ae13e0fceee"
      },
      "execution_count": null,
      "outputs": [
        {
          "output_type": "execute_result",
          "data": {
            "text/plain": [
              "npsn                  0\n",
              "nama_sekolah          0\n",
              "alamat                0\n",
              "kecamatan             0\n",
              "jumlah_siswa          0\n",
              "jumlah_guru           0\n",
              "kepala_sekolah        0\n",
              "telepon               0\n",
              "kondisi_lingkungan    0\n",
              "akreditasi            0\n",
              "dtype: int64"
            ]
          },
          "metadata": {},
          "execution_count": 7
        }
      ]
    },
    {
      "cell_type": "code",
      "source": [
        "#menampilkan 5 record dataset setelah dihandling\n",
        "dataset.head(5)"
      ],
      "metadata": {
        "colab": {
          "base_uri": "https://localhost:8080/",
          "height": 478
        },
        "id": "YjbHCg_zrUuG",
        "outputId": "aee520e0-a27a-4425-f644-3c578eb1b42f"
      },
      "execution_count": null,
      "outputs": [
        {
          "output_type": "execute_result",
          "data": {
            "text/plain": [
              "          npsn              nama_sekolah                        alamat  \\\n",
              "3  2.0112485E7          SD Gemala Ananda   Jl. Lebak Bulus III No. 93G   \n",
              "4  2.0109914E7         SD Islam An Najah                   Jl. SMAN 64   \n",
              "5  2.0106322E7  SD ISLAM TAMAN QURANIYAH            Jl. Melati No. 100   \n",
              "6  2.0177801E7    SD Islam Tunas Mandiri  Jl. Tanjung Barat Raya No. 1   \n",
              "7  2.0110202E7       SD IT Daarun Na'iim       Jl. Semanan Raya No. 27   \n",
              "\n",
              "   kecamatan  jumlah_siswa  jumlah_guru        kepala_sekolah         telepon  \\\n",
              "3   Cilandak         210.0         17.0          Jasmin Jasin  (021) 75908596   \n",
              "4   Cipayung         147.0         10.0       Ramdhani rahmat  (021) 84302039   \n",
              "5  Jagakarsa         145.0          7.0  Hj. NAPISAH MUHAMMAD   (021) 7822804   \n",
              "6  Jagakarsa         143.0         15.0  H. Ali Zaini, M.Pd.I  (021) 78841154   \n",
              "7  Kalideres         162.0         16.0        Dra. Mardianah   (021) 5402113   \n",
              "\n",
              "  kondisi_lingkungan           akreditasi  \n",
              "3               Baik                    A  \n",
              "4               Baik                    B  \n",
              "5               Baik                    B  \n",
              "6               Baik  Tidak Terakreditasi  \n",
              "7               Baik                    A  "
            ],
            "text/html": [
              "\n",
              "  <div id=\"df-cddfbb36-89c6-4aea-ab37-5c010fb0f04a\">\n",
              "    <div class=\"colab-df-container\">\n",
              "      <div>\n",
              "<style scoped>\n",
              "    .dataframe tbody tr th:only-of-type {\n",
              "        vertical-align: middle;\n",
              "    }\n",
              "\n",
              "    .dataframe tbody tr th {\n",
              "        vertical-align: top;\n",
              "    }\n",
              "\n",
              "    .dataframe thead th {\n",
              "        text-align: right;\n",
              "    }\n",
              "</style>\n",
              "<table border=\"1\" class=\"dataframe\">\n",
              "  <thead>\n",
              "    <tr style=\"text-align: right;\">\n",
              "      <th></th>\n",
              "      <th>npsn</th>\n",
              "      <th>nama_sekolah</th>\n",
              "      <th>alamat</th>\n",
              "      <th>kecamatan</th>\n",
              "      <th>jumlah_siswa</th>\n",
              "      <th>jumlah_guru</th>\n",
              "      <th>kepala_sekolah</th>\n",
              "      <th>telepon</th>\n",
              "      <th>kondisi_lingkungan</th>\n",
              "      <th>akreditasi</th>\n",
              "    </tr>\n",
              "  </thead>\n",
              "  <tbody>\n",
              "    <tr>\n",
              "      <th>3</th>\n",
              "      <td>2.0112485E7</td>\n",
              "      <td>SD Gemala Ananda</td>\n",
              "      <td>Jl. Lebak Bulus III No. 93G</td>\n",
              "      <td>Cilandak</td>\n",
              "      <td>210.0</td>\n",
              "      <td>17.0</td>\n",
              "      <td>Jasmin Jasin</td>\n",
              "      <td>(021) 75908596</td>\n",
              "      <td>Baik</td>\n",
              "      <td>A</td>\n",
              "    </tr>\n",
              "    <tr>\n",
              "      <th>4</th>\n",
              "      <td>2.0109914E7</td>\n",
              "      <td>SD Islam An Najah</td>\n",
              "      <td>Jl. SMAN 64</td>\n",
              "      <td>Cipayung</td>\n",
              "      <td>147.0</td>\n",
              "      <td>10.0</td>\n",
              "      <td>Ramdhani rahmat</td>\n",
              "      <td>(021) 84302039</td>\n",
              "      <td>Baik</td>\n",
              "      <td>B</td>\n",
              "    </tr>\n",
              "    <tr>\n",
              "      <th>5</th>\n",
              "      <td>2.0106322E7</td>\n",
              "      <td>SD ISLAM TAMAN QURANIYAH</td>\n",
              "      <td>Jl. Melati No. 100</td>\n",
              "      <td>Jagakarsa</td>\n",
              "      <td>145.0</td>\n",
              "      <td>7.0</td>\n",
              "      <td>Hj. NAPISAH MUHAMMAD</td>\n",
              "      <td>(021) 7822804</td>\n",
              "      <td>Baik</td>\n",
              "      <td>B</td>\n",
              "    </tr>\n",
              "    <tr>\n",
              "      <th>6</th>\n",
              "      <td>2.0177801E7</td>\n",
              "      <td>SD Islam Tunas Mandiri</td>\n",
              "      <td>Jl. Tanjung Barat Raya No. 1</td>\n",
              "      <td>Jagakarsa</td>\n",
              "      <td>143.0</td>\n",
              "      <td>15.0</td>\n",
              "      <td>H. Ali Zaini, M.Pd.I</td>\n",
              "      <td>(021) 78841154</td>\n",
              "      <td>Baik</td>\n",
              "      <td>Tidak Terakreditasi</td>\n",
              "    </tr>\n",
              "    <tr>\n",
              "      <th>7</th>\n",
              "      <td>2.0110202E7</td>\n",
              "      <td>SD IT Daarun Na'iim</td>\n",
              "      <td>Jl. Semanan Raya No. 27</td>\n",
              "      <td>Kalideres</td>\n",
              "      <td>162.0</td>\n",
              "      <td>16.0</td>\n",
              "      <td>Dra. Mardianah</td>\n",
              "      <td>(021) 5402113</td>\n",
              "      <td>Baik</td>\n",
              "      <td>A</td>\n",
              "    </tr>\n",
              "  </tbody>\n",
              "</table>\n",
              "</div>\n",
              "      <button class=\"colab-df-convert\" onclick=\"convertToInteractive('df-cddfbb36-89c6-4aea-ab37-5c010fb0f04a')\"\n",
              "              title=\"Convert this dataframe to an interactive table.\"\n",
              "              style=\"display:none;\">\n",
              "        \n",
              "  <svg xmlns=\"http://www.w3.org/2000/svg\" height=\"24px\"viewBox=\"0 0 24 24\"\n",
              "       width=\"24px\">\n",
              "    <path d=\"M0 0h24v24H0V0z\" fill=\"none\"/>\n",
              "    <path d=\"M18.56 5.44l.94 2.06.94-2.06 2.06-.94-2.06-.94-.94-2.06-.94 2.06-2.06.94zm-11 1L8.5 8.5l.94-2.06 2.06-.94-2.06-.94L8.5 2.5l-.94 2.06-2.06.94zm10 10l.94 2.06.94-2.06 2.06-.94-2.06-.94-.94-2.06-.94 2.06-2.06.94z\"/><path d=\"M17.41 7.96l-1.37-1.37c-.4-.4-.92-.59-1.43-.59-.52 0-1.04.2-1.43.59L10.3 9.45l-7.72 7.72c-.78.78-.78 2.05 0 2.83L4 21.41c.39.39.9.59 1.41.59.51 0 1.02-.2 1.41-.59l7.78-7.78 2.81-2.81c.8-.78.8-2.07 0-2.86zM5.41 20L4 18.59l7.72-7.72 1.47 1.35L5.41 20z\"/>\n",
              "  </svg>\n",
              "      </button>\n",
              "      \n",
              "  <style>\n",
              "    .colab-df-container {\n",
              "      display:flex;\n",
              "      flex-wrap:wrap;\n",
              "      gap: 12px;\n",
              "    }\n",
              "\n",
              "    .colab-df-convert {\n",
              "      background-color: #E8F0FE;\n",
              "      border: none;\n",
              "      border-radius: 50%;\n",
              "      cursor: pointer;\n",
              "      display: none;\n",
              "      fill: #1967D2;\n",
              "      height: 32px;\n",
              "      padding: 0 0 0 0;\n",
              "      width: 32px;\n",
              "    }\n",
              "\n",
              "    .colab-df-convert:hover {\n",
              "      background-color: #E2EBFA;\n",
              "      box-shadow: 0px 1px 2px rgba(60, 64, 67, 0.3), 0px 1px 3px 1px rgba(60, 64, 67, 0.15);\n",
              "      fill: #174EA6;\n",
              "    }\n",
              "\n",
              "    [theme=dark] .colab-df-convert {\n",
              "      background-color: #3B4455;\n",
              "      fill: #D2E3FC;\n",
              "    }\n",
              "\n",
              "    [theme=dark] .colab-df-convert:hover {\n",
              "      background-color: #434B5C;\n",
              "      box-shadow: 0px 1px 3px 1px rgba(0, 0, 0, 0.15);\n",
              "      filter: drop-shadow(0px 1px 2px rgba(0, 0, 0, 0.3));\n",
              "      fill: #FFFFFF;\n",
              "    }\n",
              "  </style>\n",
              "\n",
              "      <script>\n",
              "        const buttonEl =\n",
              "          document.querySelector('#df-cddfbb36-89c6-4aea-ab37-5c010fb0f04a button.colab-df-convert');\n",
              "        buttonEl.style.display =\n",
              "          google.colab.kernel.accessAllowed ? 'block' : 'none';\n",
              "\n",
              "        async function convertToInteractive(key) {\n",
              "          const element = document.querySelector('#df-cddfbb36-89c6-4aea-ab37-5c010fb0f04a');\n",
              "          const dataTable =\n",
              "            await google.colab.kernel.invokeFunction('convertToInteractive',\n",
              "                                                     [key], {});\n",
              "          if (!dataTable) return;\n",
              "\n",
              "          const docLinkHtml = 'Like what you see? Visit the ' +\n",
              "            '<a target=\"_blank\" href=https://colab.research.google.com/notebooks/data_table.ipynb>data table notebook</a>'\n",
              "            + ' to learn more about interactive tables.';\n",
              "          element.innerHTML = '';\n",
              "          dataTable['output_type'] = 'display_data';\n",
              "          await google.colab.output.renderOutput(dataTable, element);\n",
              "          const docLink = document.createElement('div');\n",
              "          docLink.innerHTML = docLinkHtml;\n",
              "          element.appendChild(docLink);\n",
              "        }\n",
              "      </script>\n",
              "    </div>\n",
              "  </div>\n",
              "  "
            ]
          },
          "metadata": {},
          "execution_count": 74
        }
      ]
    }
  ]
}